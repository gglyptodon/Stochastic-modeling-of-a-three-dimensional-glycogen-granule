{
 "cells": [
  {
   "cell_type": "code",
   "execution_count": null,
   "id": "b439dabc",
   "metadata": {},
   "outputs": [],
   "source": [
    "from pathlib import Path\n",
    "from os import getcwd, mkdir\n",
    "import random\n",
    "import math\n",
    "import copy\n",
    "import numpy as np\n",
    "import matplotlib.pyplot as plt\n",
    "from glycogen_module.core import GlycogenStructure\n",
    "from glycogen_module.algorithm import gillespie_step\n",
    "\n",
    "random.seed(123)"
   ]
  },
  {
   "cell_type": "code",
   "execution_count": null,
   "id": "7742efd3",
   "metadata": {},
   "outputs": [],
   "source": [
    "SCRIPTDIR = current_path = getcwd()\n",
    "PARAMS_PATH =  Path(f\"{SCRIPTDIR}/../testdata/parameters_tab1.json\")\n"
   ]
  },
  {
   "cell_type": "code",
   "execution_count": null,
   "id": "12eececd",
   "metadata": {},
   "outputs": [],
   "source": [
    "OUT_PATH =  Path(f\"{SCRIPTDIR}/../testdata/tmp_data_for_densities\")\n",
    "try:\n",
    "    mkdir(OUT_PATH)\n",
    "except FileExistsError as e:\n",
    "    print(e)\n",
    "\n",
    "num_glucose_to_be_fixed = 3000\n",
    "num_simulations = 5\n",
    "snapshot_interval = 500\n",
    "\n",
    "size_spec_gbe_leftover = 3\n",
    "size_spec_gbe_transferred = 3\n",
    "size_spec_gbe_spacing = 1\n"
   ]
  },
  {
   "cell_type": "code",
   "execution_count": null,
   "id": "6764658c",
   "metadata": {},
   "outputs": [],
   "source": [
    "for i in range(num_simulations):\n",
    "    g = GlycogenStructure.from_json_file(\n",
    "        PARAMS_PATH)\n",
    "    assert g.gs == 0.2\n",
    "    assert g.gbe == 1.0\n",
    "    assert g.gp == 0.0\n",
    "    assert g.gde == 0.0\n",
    "    assert g.l_gbe_leftover == size_spec_gbe_leftover\n",
    "    assert g.l_gbe_transferred == size_spec_gbe_transferred\n",
    "    assert g.l_gbe_spacing == size_spec_gbe_spacing\n",
    "   \n",
    "    N = g.get_num_glucose_fixed()\n",
    "    while N <= num_glucose_to_be_fixed:\n",
    "        reaction, time = gillespie_step(g)\n",
    "        if reaction == 'Act_gs()':\n",
    "            try:\n",
    "                g.act_gs()\n",
    "            except Exception as e:\n",
    "                print('act_gs:', e)\n",
    "        elif reaction == 'Act_gp()' and N > 10:\n",
    "            try:\n",
    "                g.act_gp()\n",
    "            except Exception as e:\n",
    "                print('act_gp:',e)\n",
    "        elif reaction == 'Act_gbe()':\n",
    "            try:\n",
    "                g.act_gbe_flexible_model()\n",
    "            except Exception as e:\n",
    "                print('act_gbe:',e)\n",
    "        elif reaction == 'Act_gde()':\n",
    "            try:\n",
    "                g.act_gde()\n",
    "            except Exception as e:\n",
    "                print('act_gde:',e)\n",
    "\n",
    "        N = g.get_num_glucose_fixed()\n",
    "        if N % snapshot_interval == 0:\n",
    "            g.export_to_file(Path(f\"{OUT_PATH}/g{N}_{i}.json\"))"
   ]
  },
  {
   "cell_type": "code",
   "execution_count": null,
   "id": "42cc762d",
   "metadata": {},
   "outputs": [],
   "source": [
    "filenames  = [f\"g{snapshot_interval*(k+1)}_{i}.json\" for k in range(int(num_glucose_to_be_fixed/snapshot_interval)) for i in range(num_simulations)]\n",
    "total_occupancy = []\n",
    "\n",
    "# Averaging over simulations\n",
    "for s in range(0, num_glucose_to_be_fixed+1, snapshot_interval):\n",
    "    if s == 0:\n",
    "        continue\n",
    "    occupancy_list = []\n",
    "    for i in range(num_simulations):\n",
    "        filename = f\"{OUT_PATH}/g{s}_{i}.json\"\n",
    "        from_snapshot = GlycogenStructure.from_json_file(filename, no_init=True)\n",
    "        occupancy_list.append(from_snapshot.get_density_profile())\n",
    "    total_occupancy.append(np.mean(occupancy_list, axis=0))"
   ]
  },
  {
   "cell_type": "code",
   "execution_count": null,
   "id": "a2966160",
   "metadata": {},
   "outputs": [],
   "source": [
    "cmap = plt.cm.Blues\n",
    "colorbis = cmap(np.linspace(0.15, 0.85, len(total_occupancy)))\n",
    "plt.figure(figsize=(10, 8))\n",
    "for i in range(len(total_occupancy)):\n",
    "    plt.plot(0.24*np.linspace(1, 100, 50),\n",
    "             total_occupancy[i], color=colorbis[i])\n",
    "plt.xlabel('radius [nm] ', fontsize='30', labelpad=20)\n",
    "plt.ylabel('occupancy', fontsize='30', labelpad=20)\n",
    "plt.tick_params(axis='both', width=3, labelsize=25)\n",
    "plt.ylim([0, 0.35])\n",
    "plt.show()"
   ]
  }
 ],
 "metadata": {
  "kernelspec": {
   "display_name": "Python 3 (ipykernel)",
   "language": "python",
   "name": "python3"
  },
  "language_info": {
   "codemirror_mode": {
    "name": "ipython",
    "version": 3
   },
   "file_extension": ".py",
   "mimetype": "text/x-python",
   "name": "python",
   "nbconvert_exporter": "python",
   "pygments_lexer": "ipython3",
   "version": "3.11.0"
  }
 },
 "nbformat": 4,
 "nbformat_minor": 5
}
